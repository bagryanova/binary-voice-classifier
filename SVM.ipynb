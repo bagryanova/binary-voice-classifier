{
  "nbformat": 4,
  "nbformat_minor": 0,
  "metadata": {
    "colab": {
      "name": "voice classification.ipynb",
      "provenance": [],
      "collapsed_sections": []
    },
    "kernelspec": {
      "name": "python3",
      "display_name": "Python 3"
    },
    "language_info": {
      "name": "python"
    }
  },
  "cells": [
    {
      "cell_type": "code",
      "execution_count": 23,
      "metadata": {
        "id": "1u1svPiLCql-"
      },
      "outputs": [],
      "source": [
        "import torch\n",
        "from torch.utils.data import Dataset, DataLoader\n",
        "import torchaudio\n",
        "import pandas as pd\n",
        "import librosa\n",
        "import numpy as np\n",
        "from sklearn.pipeline import make_pipeline"
      ]
    },
    {
      "cell_type": "code",
      "source": [
        "#load data\n",
        "train = torchaudio.datasets.LIBRITTS('./', url=\"train-clean-100\", download=True)\n",
        "test = torchaudio.datasets.LIBRITTS('./', url=\"test-clean\", download=True)"
      ],
      "metadata": {
        "id": "C8R7KHRR_w13"
      },
      "execution_count": 24,
      "outputs": []
    },
    {
      "cell_type": "code",
      "source": [
        "speakers = pd.read_csv(\"/content/LibriTTS/speakers.tsv\", sep='\\t')\n",
        "speakers = speakers[['READER', 'GENDER']]\n",
        "speakers = speakers.to_dict().get('READER')"
      ],
      "metadata": {
        "id": "fbCBBoDzpshP"
      },
      "execution_count": 26,
      "outputs": []
    },
    {
      "cell_type": "code",
      "source": [
        "#prepare data\n",
        "import random\n",
        "order = [i for i in range(len(train))]\n",
        "random.shuffle(order)\n",
        "X_train = [np.mean(librosa.feature.mfcc(np.array(train[i][0][0]), train[i][1]), axis=1) for i in order]\n",
        "y_train = [0 if speakers.get(train[i][4]) == 'F' else 1 for i in order]\n",
        "X_test = [np.mean(librosa.feature.mfcc(np.array(test[i][0][0]), test[i][1]), axis=1) for i in range(len(test))]\n",
        "y_test = [0 if speakers.get(test[i][4]) == 'F' else 1 for i in range(len(test))]\n"
      ],
      "metadata": {
        "id": "uhIpwUeRAOaI"
      },
      "execution_count": 27,
      "outputs": []
    },
    {
      "cell_type": "code",
      "source": [
        "#RBF SVM\n",
        "from sklearn.preprocessing import StandardScaler\n",
        "from sklearn.svm import SVC\n",
        "model_svm = make_pipeline(StandardScaler(), SVC())\n",
        "model_svm.fit(X_train, y_train)\n",
        "y_pred = model_svm.predict(X_test)"
      ],
      "metadata": {
        "id": "SU_WSwnJgNNX"
      },
      "execution_count": 28,
      "outputs": []
    },
    {
      "cell_type": "code",
      "source": [
        "from sklearn.metrics import accuracy_score\n",
        "svm_accuracy = accuracy_score(y_test, y_pred)\n",
        "print(\"RBF SVM Accuracy = \", svm_accuracy)"
      ],
      "metadata": {
        "colab": {
          "base_uri": "https://localhost:8080/"
        },
        "id": "YHYv-L7h9EiB",
        "outputId": "913d3314-a1e2-49d3-f770-48c001155978"
      },
      "execution_count": 29,
      "outputs": [
        {
          "output_type": "stream",
          "name": "stdout",
          "text": [
            "RBF SVM Accuracy =  0.8780235683274757\n"
          ]
        }
      ]
    },
    {
      "cell_type": "code",
      "source": [
        "#Linear SVM\n",
        "from sklearn.svm import LinearSVC\n",
        "model_svm_linear = make_pipeline(StandardScaler(), LinearSVC(max_iter=5000))\n",
        "model_svm_linear.fit(X_train, y_train)\n",
        "y_pred_linear = model_svm_linear.predict(X_test)\n",
        "svm_linear_accuracy = accuracy_score(y_test, y_pred_linear)\n",
        "print(\"Linear SVM Accuracy =\", svm_linear_accuracy)"
      ],
      "metadata": {
        "colab": {
          "base_uri": "https://localhost:8080/"
        },
        "id": "VFIfl2Ar_lqR",
        "outputId": "d0cf961d-e601-4c65-8170-a3912bfea17e"
      },
      "execution_count": 30,
      "outputs": [
        {
          "output_type": "stream",
          "name": "stdout",
          "text": [
            "Linear SVM Accuracy = 0.9162704155468265\n"
          ]
        }
      ]
    }
  ]
}